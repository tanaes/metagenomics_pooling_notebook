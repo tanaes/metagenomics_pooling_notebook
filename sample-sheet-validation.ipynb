{
 "cells": [
  {
   "cell_type": "code",
   "execution_count": null,
   "metadata": {},
   "outputs": [],
   "source": [
    "from metapool.metapool import parse_sample_sheet, validate_sample_sheet, write_sample_sheet"
   ]
  },
  {
   "cell_type": "markdown",
   "metadata": {},
   "source": [
    "# Knight Lab Sample Sheet Validation\n",
    "\n",
    "This notebook is designed to validate and troubleshoot sample sheets of externally generated plates.\n",
    "\n",
    "The steps are as follows:\n",
    "\n",
    "1. Parse sample sheet.\n",
    "2. Validate and scrub sample identifiers so they are compliant with Illumina's `bcl2fastq` software.\n",
    "    - Automatically replace non-allowed characters for underscores.\n",
    "    - Flag non-unique sample identifiers.\n",
    "3. Validate the Qiita study identifier suffix at the end of every project name.\n",
    "4. Save the parsed file in a compliant format.\n",
    "\n",
    "**Note**: warning and error messages (text highlighted in red) will inform you of any problems that may come up."
   ]
  },
  {
   "cell_type": "markdown",
   "metadata": {},
   "source": [
    "**Enter the correct path to the sample sheet you want to validate**, replace `input.csv` for the location of the sheet you want to validate."
   ]
  },
  {
   "cell_type": "code",
   "execution_count": null,
   "metadata": {},
   "outputs": [],
   "source": [
    "sheet = parse_sample_sheet('input.csv')\n",
    "valid_sheet = validate_sample_sheet(sheet)"
   ]
  },
  {
   "cell_type": "markdown",
   "metadata": {},
   "source": [
    "If there are any error messages, please correct the sample sheet and re-run the cell above. Once you are happy with the results run the cell below."
   ]
  },
  {
   "cell_type": "code",
   "execution_count": null,
   "metadata": {},
   "outputs": [],
   "source": [
    "write_sample_sheet(valid_sheet, 'validated-sample-sheet.csv')"
   ]
  }
 ],
 "metadata": {
  "kernelspec": {
   "display_name": "Python 3",
   "language": "python",
   "name": "python3"
  },
  "language_info": {
   "codemirror_mode": {
    "name": "ipython",
    "version": 3
   },
   "file_extension": ".py",
   "mimetype": "text/x-python",
   "name": "python",
   "nbconvert_exporter": "python",
   "pygments_lexer": "ipython3",
   "version": "3.8.1"
  },
  "toc": {
   "base_numbering": 1,
   "nav_menu": {},
   "number_sections": true,
   "sideBar": true,
   "skip_h1_title": false,
   "title_cell": "Table of Contents",
   "title_sidebar": "Contents",
   "toc_cell": false,
   "toc_position": {},
   "toc_section_display": true,
   "toc_window_display": false
  }
 },
 "nbformat": 4,
 "nbformat_minor": 4
}
